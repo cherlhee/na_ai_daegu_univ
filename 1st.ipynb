{
  "nbformat": 4,
  "nbformat_minor": 0,
  "metadata": {
    "colab": {
      "provenance": [],
      "authorship_tag": "ABX9TyPnVGB0IFeMfxPs++YrP6gv",
      "include_colab_link": true
    },
    "kernelspec": {
      "name": "python3",
      "display_name": "Python 3"
    },
    "language_info": {
      "name": "python"
    }
  },
  "cells": [
    {
      "cell_type": "markdown",
      "metadata": {
        "id": "view-in-github",
        "colab_type": "text"
      },
      "source": [
        "<a href=\"https://colab.research.google.com/github/cherlhee/na_ai_daegu_univ/blob/main/1st.ipynb\" target=\"_parent\"><img src=\"https://colab.research.google.com/assets/colab-badge.svg\" alt=\"Open In Colab\"/></a>"
      ]
    },
    {
      "cell_type": "code",
      "execution_count": null,
      "metadata": {
        "colab": {
          "base_uri": "https://localhost:8080/",
          "height": 1000
        },
        "id": "2ovBKueL67Ct",
        "outputId": "f816d131-8e61-4d8c-b607-f5c897e6356c"
      },
      "outputs": [
        {
          "output_type": "stream",
          "name": "stdout",
          "text": [
            "Epoch 1/20\n",
            "1/1 [==============================] - 0s 351ms/step - loss: 7509.4102\n",
            "Epoch 2/20\n",
            "1/1 [==============================] - 0s 13ms/step - loss: 2116.1782\n",
            "Epoch 3/20\n",
            "1/1 [==============================] - 0s 8ms/step - loss: 1317.5015\n",
            "Epoch 4/20\n",
            "1/1 [==============================] - 0s 9ms/step - loss: 1193.6924\n",
            "Epoch 5/20\n",
            "1/1 [==============================] - 0s 8ms/step - loss: 1169.0466\n",
            "Epoch 6/20\n",
            "1/1 [==============================] - 0s 7ms/step - loss: 1159.0072\n",
            "Epoch 7/20\n",
            "1/1 [==============================] - 0s 8ms/step - loss: 1151.1548\n",
            "Epoch 8/20\n",
            "1/1 [==============================] - 0s 8ms/step - loss: 1143.6649\n",
            "Epoch 9/20\n",
            "1/1 [==============================] - 0s 7ms/step - loss: 1136.2692\n",
            "Epoch 10/20\n",
            "1/1 [==============================] - 0s 8ms/step - loss: 1128.9281\n",
            "Epoch 11/20\n",
            "1/1 [==============================] - 0s 8ms/step - loss: 1121.6357\n",
            "Epoch 12/20\n",
            "1/1 [==============================] - 0s 6ms/step - loss: 1114.3906\n",
            "Epoch 13/20\n",
            "1/1 [==============================] - 0s 7ms/step - loss: 1107.1923\n",
            "Epoch 14/20\n",
            "1/1 [==============================] - 0s 8ms/step - loss: 1100.0408\n",
            "Epoch 15/20\n",
            "1/1 [==============================] - 0s 8ms/step - loss: 1092.9355\n",
            "Epoch 16/20\n",
            "1/1 [==============================] - 0s 20ms/step - loss: 1085.8762\n",
            "Epoch 17/20\n",
            "1/1 [==============================] - 0s 22ms/step - loss: 1078.8625\n",
            "Epoch 18/20\n",
            "1/1 [==============================] - 0s 15ms/step - loss: 1071.8944\n",
            "Epoch 19/20\n",
            "1/1 [==============================] - 0s 32ms/step - loss: 1064.9713\n",
            "Epoch 20/20\n",
            "1/1 [==============================] - 0s 13ms/step - loss: 1058.0931\n",
            "1/1 [==============================] - 0s 43ms/step\n"
          ]
        },
        {
          "output_type": "execute_result",
          "data": {
            "text/plain": [
              "[<matplotlib.lines.Line2D at 0x7f096515f040>]"
            ]
          },
          "metadata": {},
          "execution_count": 3
        },
        {
          "output_type": "display_data",
          "data": {
            "text/plain": [
              "<Figure size 432x288 with 1 Axes>"
            ],
            "image/png": "[encoded data removed]"
          },
          "metadata": {
            "needs_background": "light"
          }
        }
      ],
      "source": [
        "import numpy as np\n",
        "import matplotlib.pyplot as plt\n",
        "\n",
        "from tensorflow.keras.models import Sequential\n",
        "from tensorflow.keras.layers import Dense\n",
        "\n",
        "\n",
        "\n",
        "# to make dataset;\n",
        "x = np.array([2, 4, 6, 8])\n",
        "y = np.array([89, 93, 91, 97])\n",
        "\n",
        "\n",
        "\n",
        "# to make objective;\n",
        "model = Sequential()\n",
        "\n",
        "\n",
        "\n",
        "# to define model structure;\n",
        "model.add(Dense(1, input_dim=1, activation='linear'))\n",
        "\n",
        "\n",
        "\n",
        "\n",
        "# to use sigmoid funtion and mean square error function;\n",
        "model.compile(optimizer='sgd', loss='mse')\n",
        "\n",
        "\n",
        "\n",
        "# to fit model with epochs;\n",
        "model.fit(x, y, epochs=20)\n",
        "\n",
        "\n",
        "\n",
        "plt.scatter(x, y)\n",
        "\n",
        "plt.plot(x, model.predict(x), 'r')\n",
        "\n",
        "\n",
        "\n",
        "# # to test and predict model;\n",
        "# hr = 7\n",
        "# pred = model.predict([hr]) \n",
        "# print('%f hours; u get %f scores' %(hr, pred))\n",
        "\n",
        "\n"
      ]
    }
  ]
}